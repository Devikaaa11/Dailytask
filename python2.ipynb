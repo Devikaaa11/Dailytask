{
  "nbformat": 4,
  "nbformat_minor": 0,
  "metadata": {
    "colab": {
      "provenance": []
    },
    "kernelspec": {
      "name": "python3",
      "display_name": "Python 3"
    },
    "language_info": {
      "name": "python"
    }
  },
  "cells": [
    {
      "cell_type": "code",
      "execution_count": 2,
      "metadata": {
        "colab": {
          "base_uri": "https://localhost:8080/"
        },
        "id": "48dYPrh3jOJ8",
        "outputId": "7dcfbd63-0746-43fb-c267-9a84c4a1a1be"
      },
      "outputs": [
        {
          "output_type": "stream",
          "name": "stdout",
          "text": [
            "Enter a string value: Assembly\n",
            "Sample output: A=1, s=2, e=1, m=1, b=1, l=1, y=1, \b\b \n"
          ]
        }
      ],
      "source": [
        "#1.\n",
        "input_string = input(\"Enter a string value: \")\n",
        "char_count = {}\n",
        "for char in input_string:\n",
        "    if char in char_count:\n",
        "        char_count[char] += 1\n",
        "    else:\n",
        "        char_count[char] = 1\n",
        "print(\"Sample output:\", end=\" \")\n",
        "for char, count in char_count.items():\n",
        "    print(f\"{char}={count}\", end=\", \")\n",
        "print(\"\\b\\b \")\n",
        "\n"
      ]
    },
    {
      "cell_type": "code",
      "source": [
        "#2.\n",
        "def maxi(n1,n2,n3):\n",
        "  result=(max(n1,n2,n3))\n",
        "  return result\n",
        "n1=34\n",
        "n2=12\n",
        "n3=7\n",
        "m=maxi(n1,n2,n3)\n",
        "print('maximum is',m)\n",
        "\n",
        ""
      ],
      "metadata": {
        "colab": {
          "base_uri": "https://localhost:8080/"
        },
        "id": "QLBzXDO2rRd3",
        "outputId": "e467b19e-24ef-448d-b6b7-90e81619f5e1"
      },
      "execution_count": 4,
      "outputs": [
        {
          "output_type": "stream",
          "name": "stdout",
          "text": [
            "maximum is 34\n"
          ]
        }
      ]
    },
    {
      "cell_type": "code",
      "source": [
        "#3.\n",
        "def expo():\n",
        "  n=int(input('Enter base:'))\n",
        "  m=int(input('Enter exponent:'))\n",
        "  ex=n**m\n",
        "  return ex\n",
        "e=expo()\n",
        "print(e)"
      ],
      "metadata": {
        "colab": {
          "base_uri": "https://localhost:8080/"
        },
        "id": "9olLdD3hsfUP",
        "outputId": "04aa00d2-662e-4cf1-a113-4619b0cdc4b9"
      },
      "execution_count": 8,
      "outputs": [
        {
          "output_type": "stream",
          "name": "stdout",
          "text": [
            "Enter base:2\n",
            "Enter exponent:3\n",
            "8\n"
          ]
        }
      ]
    },
    {
      "cell_type": "code",
      "source": [
        "#4.\n",
        "def sum_cube(n):\n",
        "    sum_cubes = 0\n",
        "    for i in range(n):\n",
        "        sum_cubes += i**3\n",
        "    return sum_cubes\n",
        "n = int(input(\"Enter a positive integer: \"))\n",
        "if n > 0:\n",
        "    result = sum_cube(n)\n",
        "    print(result)\n",
        "else:\n",
        "    print(\"Please enter a positive integer.\")\n"
      ],
      "metadata": {
        "colab": {
          "base_uri": "https://localhost:8080/"
        },
        "id": "CtElBx7UvBRA",
        "outputId": "ded5bbc5-292e-4536-b3a0-114e8f737098"
      },
      "execution_count": 11,
      "outputs": [
        {
          "output_type": "stream",
          "name": "stdout",
          "text": [
            "Enter a positive integer: 4\n",
            "36\n"
          ]
        }
      ]
    },
    {
      "cell_type": "code",
      "source": [
        "#5.\n",
        "def game():\n",
        "  for i in range(1,11):\n",
        "    if i%2==0 & i%5==0:\n",
        "      print('FizzBuzz')\n",
        "    elif i%2==0:\n",
        "      print('Fizz')\n",
        "    else:\n",
        "      print('Buzz')\n",
        "game()\n",
        "\n"
      ],
      "metadata": {
        "colab": {
          "base_uri": "https://localhost:8080/"
        },
        "id": "QGqc87OFxWQN",
        "outputId": "4acca05b-4237-4468-d59a-9490ed59812b"
      },
      "execution_count": 18,
      "outputs": [
        {
          "output_type": "stream",
          "name": "stdout",
          "text": [
            "Buzz\n",
            "FizzBuzz\n",
            "Buzz\n",
            "FizzBuzz\n",
            "Buzz\n",
            "FizzBuzz\n",
            "Buzz\n",
            "FizzBuzz\n",
            "Buzz\n",
            "FizzBuzz\n"
          ]
        }
      ]
    },
    {
      "cell_type": "code",
      "source": [
        "#6.\n",
        "numbers = [2, 3, 4, 2, 5, 2]\n",
        "frequency = {}\n",
        "for num in numbers:\n",
        "    if num in frequency:\n",
        "        frequency[num] += 1\n",
        "    else:\n",
        "        frequency[num] = 1\n",
        "most_frequent = max(frequency, key=frequency.get)\n",
        "print(most_frequent)\n"
      ],
      "metadata": {
        "colab": {
          "base_uri": "https://localhost:8080/"
        },
        "id": "L_DnzDrBzD4k",
        "outputId": "0b1c5f91-1aa8-4c3e-c552-3de9d78d90eb"
      },
      "execution_count": 19,
      "outputs": [
        {
          "output_type": "stream",
          "name": "stdout",
          "text": [
            "2\n"
          ]
        }
      ]
    },
    {
      "cell_type": "code",
      "source": [
        "#7.\n",
        "numbers = [2, 1, 3, 1]\n",
        "sum_of_squares = sum(x**2 for x in numbers)\n",
        "print(sum_of_squares)\n"
      ],
      "metadata": {
        "colab": {
          "base_uri": "https://localhost:8080/"
        },
        "id": "oeum-7hT01JC",
        "outputId": "17aed468-cd71-4fa4-92bc-83db67eacb2b"
      },
      "execution_count": 20,
      "outputs": [
        {
          "output_type": "stream",
          "name": "stdout",
          "text": [
            "15\n"
          ]
        }
      ]
    },
    {
      "cell_type": "code",
      "source": [
        "#8.\n",
        "for i in range(1,16):\n",
        "  if i%2==0:\n",
        "    print(i,'-even')\n",
        "  else:\n",
        "    print(i,'-odd')\n"
      ],
      "metadata": {
        "colab": {
          "base_uri": "https://localhost:8080/"
        },
        "id": "1PTh3JLc1WQR",
        "outputId": "2c06aff9-38ba-421e-d216-68c416f805fc"
      },
      "execution_count": 24,
      "outputs": [
        {
          "output_type": "stream",
          "name": "stdout",
          "text": [
            "1 -odd\n",
            "2 -even\n",
            "3 -odd\n",
            "4 -even\n",
            "5 -odd\n",
            "6 -even\n",
            "7 -odd\n",
            "8 -even\n",
            "9 -odd\n",
            "10 -even\n",
            "11 -odd\n",
            "12 -even\n",
            "13 -odd\n",
            "14 -even\n",
            "15 -odd\n"
          ]
        }
      ]
    },
    {
      "cell_type": "code",
      "source": [
        "#9.\n",
        "f=int(input('Enter temp in fahrenheit:'))\n",
        "Temp_in_d=5*((f-32)/9)\n",
        "print(Temp_in_d)"
      ],
      "metadata": {
        "colab": {
          "base_uri": "https://localhost:8080/"
        },
        "id": "4pS6Wd-s1_uJ",
        "outputId": "a388a11a-c489-40d7-c044-8e0925849251"
      },
      "execution_count": 26,
      "outputs": [
        {
          "output_type": "stream",
          "name": "stdout",
          "text": [
            "Enter temp in fahrenheit:41\n",
            "5.0\n"
          ]
        }
      ]
    },
    {
      "cell_type": "code",
      "source": [
        "#10.\n",
        "def factorial(n):\n",
        "    if n == 0:\n",
        "        return 1\n",
        "    else:\n",
        "        return n * factorial(n - 1)\n",
        "num = 3\n",
        "result = factorial(num)\n",
        "print(f\"The factorial of {num} is: {result}\")\n"
      ],
      "metadata": {
        "colab": {
          "base_uri": "https://localhost:8080/"
        },
        "id": "mR6fkAWe281D",
        "outputId": "68a29538-cdd7-4a87-bb6f-6870185b2465"
      },
      "execution_count": 27,
      "outputs": [
        {
          "output_type": "stream",
          "name": "stdout",
          "text": [
            "The factorial of 3 is: 6\n"
          ]
        }
      ]
    },
    {
      "cell_type": "code",
      "source": [],
      "metadata": {
        "id": "wHd6U9BZ3mve"
      },
      "execution_count": null,
      "outputs": []
    }
  ]
}
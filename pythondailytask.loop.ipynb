{
  "nbformat": 4,
  "nbformat_minor": 0,
  "metadata": {
    "colab": {
      "provenance": []
    },
    "kernelspec": {
      "name": "python3",
      "display_name": "Python 3"
    },
    "language_info": {
      "name": "python"
    }
  },
  "cells": [
    {
      "cell_type": "markdown",
      "source": [
        "Daily activity"
      ],
      "metadata": {
        "id": "52Pm3fZD6L2R"
      }
    },
    {
      "cell_type": "code",
      "source": [
        "#1.\n",
        "list1=[]\n",
        "for i in range(3):\n",
        "  n=int(input('Enter your age:'))\n",
        "  list1.append(n)\n",
        "print(f'Oldest:{max(list1)}')\n",
        "print(f'Youngest:{min(list1)}')"
      ],
      "metadata": {
        "colab": {
          "base_uri": "https://localhost:8080/"
        },
        "id": "8_LuVUYR7Swq",
        "outputId": "d805c0b2-ada3-490c-d1a6-558c110447c5"
      },
      "execution_count": 29,
      "outputs": [
        {
          "output_type": "stream",
          "name": "stdout",
          "text": [
            "Enter your age:32\n",
            "Enter your age:54\n",
            "Enter your age:21\n",
            "Oldest:54\n",
            "Youngest:21\n"
          ]
        }
      ]
    },
    {
      "cell_type": "code",
      "source": [
        "#2.\n",
        "n=int(input('Enter your score:'))\n",
        "if n>=90:\n",
        "  print('Grade:A')\n",
        "elif n>=80 and n<=89:\n",
        "  print('Grade:B')\n",
        "elif n>=70 and n<=79:\n",
        "  print('Grade:C')\n",
        "else:\n",
        "  print('Grade:F')\n"
      ],
      "metadata": {
        "colab": {
          "base_uri": "https://localhost:8080/"
        },
        "id": "qxJLf5iv8A_F",
        "outputId": "639729eb-e83f-4b93-afaf-4305011126f1"
      },
      "execution_count": null,
      "outputs": [
        {
          "output_type": "stream",
          "name": "stdout",
          "text": [
            "Enter your score:45\n",
            "Grade:F\n"
          ]
        }
      ]
    },
    {
      "cell_type": "code",
      "source": [
        "#3.\n",
        "list3=[]\n",
        "while True:\n",
        "  Item=input('Enter item name:')\n",
        "  if Item=='done':\n",
        "    break\n",
        "  list3.append(Item)\n",
        "list3.sort()\n",
        "print(list3)"
      ],
      "metadata": {
        "colab": {
          "base_uri": "https://localhost:8080/"
        },
        "id": "gHTp_787_e8Q",
        "outputId": "11554eb6-e0e9-4698-e90f-61416c6c95b6"
      },
      "execution_count": null,
      "outputs": [
        {
          "output_type": "stream",
          "name": "stdout",
          "text": [
            "Enter item name:k\n",
            "Enter item name:y\n",
            "Enter item name:a\n",
            "Enter item name:b\n",
            "Enter item name:c\n",
            "Enter item name:done\n",
            "['a', 'b', 'c', 'k', 'y']\n"
          ]
        }
      ]
    },
    {
      "cell_type": "code",
      "source": [
        "#4.\n",
        "domain = ['mail.com', 'mail.cc', 'mail.org', 'mail-archive.com']\n",
        "\n",
        "while True:\n",
        "    mail = input('Enter your mail:')\n",
        "    if mail.count('@') != 1:\n",
        "        print(f\"The email address {mail} is not valid. Please enter a valid email address.\")\n",
        "        continue\n",
        "    local,d = mail.split('@')\n",
        "    if any(d.endswith(dom) for dom in domain):\n",
        "        print(f\"The email address {mail} is valid.\")\n",
        "        break\n",
        "    else:\n",
        "        print(f\"The email address {mail} is not valid. Please enter a valid email address.\")"
      ],
      "metadata": {
        "colab": {
          "base_uri": "https://localhost:8080/"
        },
        "id": "EV3OR9P7H5MG",
        "outputId": "56a49756-44ec-490d-ccd2-efe8e3bc21a0"
      },
      "execution_count": 27,
      "outputs": [
        {
          "output_type": "stream",
          "name": "stdout",
          "text": [
            "Enter your mail:devu@gmail.com\n",
            "The email address devu@gmail.com is valid.\n"
          ]
        }
      ]
    },
    {
      "cell_type": "code",
      "source": [
        "#5.\n",
        "n=int(input('Number of delayed days:'))\n",
        "if n<=7:\n",
        "  print('No fine')\n",
        "elif n>=8 and n<=30:\n",
        "  print('fine:2 Rupees/day','\\nTotal fine=',2*n)\n",
        "else:\n",
        "  print('fine:5 Rupees/day','\\nTotal fine=',5*n)"
      ],
      "metadata": {
        "colab": {
          "base_uri": "https://localhost:8080/"
        },
        "id": "m729Kar1BOFR",
        "outputId": "1b2aafc4-c0cc-486c-cc3d-a9e31a3ff249"
      },
      "execution_count": null,
      "outputs": [
        {
          "output_type": "stream",
          "name": "stdout",
          "text": [
            "Number of delayed days:87\n",
            "fine:5 Rupees/day \n",
            "Total fine= 435\n"
          ]
        }
      ]
    },
    {
      "cell_type": "code",
      "source": [
        "#6.\n",
        "s=input('Enter a character:')\n",
        "if 'a' or 'e' or 'i' or 'o' or 'u'in s:\n",
        "  print('Vowels are present')\n",
        "else:\n",
        "  print('Vowels are absent')"
      ],
      "metadata": {
        "colab": {
          "base_uri": "https://localhost:8080/"
        },
        "id": "_z431lQxFvK4",
        "outputId": "7e1e2af0-56fe-4b0a-ab3a-e58d0d3ed2fa"
      },
      "execution_count": null,
      "outputs": [
        {
          "output_type": "stream",
          "name": "stdout",
          "text": [
            "Enter a sentance:o\n",
            "Vowels are present\n"
          ]
        }
      ]
    },
    {
      "cell_type": "code",
      "source": [
        "#7.\n",
        "n=int(input('Enter a number:'))\n",
        "fact=1\n",
        "for i in range(1,n+1):\n",
        "  fact=fact*i\n",
        "print(fact)\n"
      ],
      "metadata": {
        "colab": {
          "base_uri": "https://localhost:8080/"
        },
        "id": "pykfeE20KhvE",
        "outputId": "fc0fa929-8b59-4b3e-f8fe-1d5529e4bac8"
      },
      "execution_count": null,
      "outputs": [
        {
          "output_type": "stream",
          "name": "stdout",
          "text": [
            "Enter a number:4\n",
            "24\n"
          ]
        }
      ]
    },
    {
      "cell_type": "code",
      "source": [
        "#8.\n",
        "fibonacci=[0,1]\n",
        "for i in range(10):\n",
        "  f=fibonacci[-1]+fibonacci[-2]\n",
        "  fibonacci.append(f)\n",
        "print('fibonacci=',fibonacci)"
      ],
      "metadata": {
        "colab": {
          "base_uri": "https://localhost:8080/"
        },
        "id": "W1BElnSMNXVa",
        "outputId": "3d1e0b9d-4270-448d-8a8a-74dbbe3f4f1a"
      },
      "execution_count": null,
      "outputs": [
        {
          "output_type": "stream",
          "name": "stdout",
          "text": [
            "fibonacci= [0, 1, 1, 2, 3, 5, 8, 13, 21, 34, 55, 89]\n"
          ]
        }
      ]
    },
    {
      "cell_type": "code",
      "source": [
        "#9.\n",
        "from random import randint\n",
        "r=randint(1,20)\n",
        "for i in range(5):\n",
        "  n=int(input('Enter a number:'))\n",
        "  if (r==n):\n",
        "    print('Kudos')\n",
        "    break\n",
        "print(r)"
      ],
      "metadata": {
        "colab": {
          "base_uri": "https://localhost:8080/"
        },
        "id": "HMt3yn5NB2uu",
        "outputId": "5ed1753d-ead4-4811-f608-1bee3f64fe88"
      },
      "execution_count": 23,
      "outputs": [
        {
          "output_type": "stream",
          "name": "stdout",
          "text": [
            "Enter a number:6\n",
            "Enter a number:11\n",
            "Enter a number:15\n",
            "Enter a number:19\n",
            "Enter a number:17\n",
            "7\n"
          ]
        }
      ]
    },
    {
      "cell_type": "code",
      "source": [
        "\n",
        "#10.\n",
        "print('Select an operation')\n",
        "print('addition','','subtraction','','multiplication','','division','','exit')\n",
        "while True:\n",
        "  Operation=input('Enter the operation=')\n",
        "  if Operation=='exit':\n",
        "    print('end')\n",
        "    break\n",
        "  n1=int(input('Enter a number:'))\n",
        "  n2=int(input('Enter a number:'))\n",
        "  if Operation=='addition':\n",
        "   print('Ans=',n1+n2)\n",
        "  elif Operation=='subtraction':\n",
        "   print('Ans=',n1-n2)\n",
        "  elif Operation=='multiplication':\n",
        "    print('Ans=',(n1*n2))\n",
        "  elif Operation=='division':\n",
        "    print('Ans=',n1/n2)\n",
        "  else:\n",
        "   print('Select correct option')\n",
        "print('The program has ended')\n",
        "\n",
        "\n",
        ""
      ],
      "metadata": {
        "colab": {
          "base_uri": "https://localhost:8080/"
        },
        "id": "q52GzRDtSbmj",
        "outputId": "9103cf09-7056-49d2-e205-26b10d03f5bb"
      },
      "execution_count": 20,
      "outputs": [
        {
          "output_type": "stream",
          "name": "stdout",
          "text": [
            "Select an operation\n",
            "addition  subtraction  multiplication  division  exit\n",
            "Enter the operation=exit\n",
            "end\n",
            "The program has ended\n"
          ]
        }
      ]
    },
    {
      "cell_type": "code",
      "source": [
        "1"
      ],
      "metadata": {
        "id": "A06cRGMRdRQ0"
      },
      "execution_count": null,
      "outputs": []
    }
  ]
}
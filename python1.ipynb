{
  "nbformat": 4,
  "nbformat_minor": 0,
  "metadata": {
    "colab": {
      "provenance": []
    },
    "kernelspec": {
      "name": "python3",
      "display_name": "Python 3"
    },
    "language_info": {
      "name": "python"
    }
  },
  "cells": [
    {
      "cell_type": "code",
      "execution_count": null,
      "metadata": {
        "colab": {
          "base_uri": "https://localhost:8080/"
        },
        "id": "AY-RtBX-__Mu",
        "outputId": "9a130f35-1ae8-47ab-e1aa-82757c994d3d"
      },
      "outputs": [
        {
          "output_type": "stream",
          "name": "stdout",
          "text": [
            "enter the radius:3\n",
            "28.274333882308138\n"
          ]
        }
      ],
      "source": [
        "#1.\n",
        "from math import*\n",
        "radius=int(input('enter the radius:'))\n",
        "area_circle=pi*radius**2\n",
        "print(area_circle)\n"
      ]
    },
    {
      "cell_type": "code",
      "source": [
        "#2.\n",
        "Name=input('Enter the name:')\n",
        "Roll_number=int(input('Enter the roll number:'))\n",
        "Mark=int(input('Enter the mark:'))"
      ],
      "metadata": {
        "colab": {
          "base_uri": "https://localhost:8080/"
        },
        "id": "H18VyW8hDs30",
        "outputId": "b9ee70e5-ae37-4ef1-81e6-708af1c70106"
      },
      "execution_count": null,
      "outputs": [
        {
          "name": "stdout",
          "output_type": "stream",
          "text": [
            "Enter the name:Anisha\n",
            "Enter the roll number:21\n",
            "Enter the mark:78\n"
          ]
        }
      ]
    },
    {
      "cell_type": "code",
      "source": [
        "#3.\n",
        "l1=[]\n",
        "for i in range(4):\n",
        "  n1=int(input('Enter number:'))\n",
        "  l1.append(n1)\n",
        "print(l1)\n",
        "lar=max(l1)\n",
        "print(f'{lar} is the largest number')"
      ],
      "metadata": {
        "colab": {
          "base_uri": "https://localhost:8080/"
        },
        "id": "5PbzPTUUE7MV",
        "outputId": "4cc7dafd-2b53-4aa8-b618-442ec095d158"
      },
      "execution_count": null,
      "outputs": [
        {
          "output_type": "stream",
          "name": "stdout",
          "text": [
            "Enter number:12\n",
            "Enter number:3\n",
            "Enter number:47\n",
            "Enter number:10\n",
            "[12, 3, 47, 10]\n",
            "47 is the largest number\n"
          ]
        }
      ]
    },
    {
      "cell_type": "code",
      "source": [
        "#4.\n",
        "prev_nmbr=0\n",
        "for crnt_nmbr in range(1,11):\n",
        "  sum2=crnt_nmbr+prev_nmbr\n",
        "  print(f\"Current Number {crnt_nmbr} Previous Number {prev_nmbr} Sum: {sum2}\")\n",
        "  prev_nmbr=crnt_nmbr\n",
        "\n"
      ],
      "metadata": {
        "colab": {
          "base_uri": "https://localhost:8080/"
        },
        "id": "GTyeUucqGScr",
        "outputId": "a9301ca1-37d0-48e8-8568-d27887e16c2c"
      },
      "execution_count": null,
      "outputs": [
        {
          "output_type": "stream",
          "name": "stdout",
          "text": [
            "Current Number 1 Previous Number 0 Sum: 1\n",
            "Current Number 2 Previous Number 1 Sum: 3\n",
            "Current Number 3 Previous Number 2 Sum: 5\n",
            "Current Number 4 Previous Number 3 Sum: 7\n",
            "Current Number 5 Previous Number 4 Sum: 9\n",
            "Current Number 6 Previous Number 5 Sum: 11\n",
            "Current Number 7 Previous Number 6 Sum: 13\n",
            "Current Number 8 Previous Number 7 Sum: 15\n",
            "Current Number 9 Previous Number 8 Sum: 17\n",
            "Current Number 10 Previous Number 9 Sum: 19\n"
          ]
        }
      ]
    },
    {
      "cell_type": "code",
      "source": [
        "#5.\n",
        "l5=[]\n",
        "for i in range(5):\n",
        "  z=int(input('Enter a number:'))\n",
        "  if z%5==0:\n",
        "    l5.append(z)\n",
        "print(l5)"
      ],
      "metadata": {
        "id": "f7gGBWaqJymK",
        "colab": {
          "base_uri": "https://localhost:8080/"
        },
        "outputId": "2238acbf-e6aa-487f-b320-a64e4f79047b"
      },
      "execution_count": 4,
      "outputs": [
        {
          "output_type": "stream",
          "name": "stdout",
          "text": [
            "Enter a number:10\n",
            "Enter a number:20\n",
            "Enter a number:33\n",
            "Enter a number:46\n",
            "Enter a number:55\n",
            "[10, 20, 55]\n"
          ]
        }
      ]
    },
    {
      "cell_type": "code",
      "source": [
        "#6.\n",
        "n=int(input('Enter a number:'))\n",
        "for i in range(2,n):\n",
        "  if n%i==0:\n",
        "    print('not a prime number')\n",
        "  else:\n",
        "    print('prime number')"
      ],
      "metadata": {
        "colab": {
          "base_uri": "https://localhost:8080/"
        },
        "id": "VVM6TX4Oc3oS",
        "outputId": "bc77a6f2-b66a-48bc-cacf-f55200178ade"
      },
      "execution_count": 5,
      "outputs": [
        {
          "output_type": "stream",
          "name": "stdout",
          "text": [
            "Enter a number:3\n",
            "prime number\n"
          ]
        }
      ]
    },
    {
      "cell_type": "code",
      "source": [
        "#7.\n",
        "input_list = [10, 40, 30, 70]\n",
        "reversed_list = []\n",
        "for i in range(len(input_list) - 1, -1, -1):\n",
        "    reversed_list.append(input_list[i])\n",
        "print(\"Reversed list:\", reversed_list)\n"
      ],
      "metadata": {
        "colab": {
          "base_uri": "https://localhost:8080/"
        },
        "id": "yGJXYvpfeIRP",
        "outputId": "ebd7ccc1-be21-4aeb-f15b-842225b5fd4c"
      },
      "execution_count": 6,
      "outputs": [
        {
          "output_type": "stream",
          "name": "stdout",
          "text": [
            "Reversed list: [70, 30, 40, 10]\n"
          ]
        }
      ]
    },
    {
      "cell_type": "code",
      "source": [
        "#8.\n",
        "r = 4\n",
        "for i in range(1, r + 1):\n",
        "    print('*' * i)\n"
      ],
      "metadata": {
        "colab": {
          "base_uri": "https://localhost:8080/"
        },
        "id": "jjhXwtHjfAtX",
        "outputId": "f4628e4c-d72e-49d2-defa-c463b415c67c"
      },
      "execution_count": 9,
      "outputs": [
        {
          "output_type": "stream",
          "name": "stdout",
          "text": [
            "*\n",
            "**\n",
            "***\n",
            "****\n"
          ]
        }
      ]
    },
    {
      "cell_type": "code",
      "source": [
        "#9.\n",
        "sample_input=[34,12,7]\n",
        "print(max(sample_input))"
      ],
      "metadata": {
        "colab": {
          "base_uri": "https://localhost:8080/"
        },
        "id": "-n5pxJirfR_b",
        "outputId": "1476772e-0384-41df-a032-1d417e6dd346"
      },
      "execution_count": 10,
      "outputs": [
        {
          "output_type": "stream",
          "name": "stdout",
          "text": [
            "34\n"
          ]
        }
      ]
    },
    {
      "cell_type": "code",
      "source": [
        "#10.\n",
        "rows = 5\n",
        "pattern = [('*' * i) for i in range(1, rows + 1)]\n",
        "pattern += [('*' * i) for i in range(rows - 1, 0, -1)]\n",
        "for line in pattern:\n",
        "    print(line)"
      ],
      "metadata": {
        "colab": {
          "base_uri": "https://localhost:8080/"
        },
        "id": "to5kP-CZg7E-",
        "outputId": "ae964570-a1a5-4835-ef94-ad6e6d392a06"
      },
      "execution_count": 12,
      "outputs": [
        {
          "output_type": "stream",
          "name": "stdout",
          "text": [
            "*\n",
            "**\n",
            "***\n",
            "****\n",
            "*****\n",
            "****\n",
            "***\n",
            "**\n",
            "*\n"
          ]
        }
      ]
    },
    {
      "cell_type": "code",
      "source": [],
      "metadata": {
        "id": "GbHJ0HkshrzX"
      },
      "execution_count": null,
      "outputs": []
    }
  ]
}
{
  "nbformat": 4,
  "nbformat_minor": 0,
  "metadata": {
    "colab": {
      "provenance": []
    },
    "kernelspec": {
      "name": "python3",
      "display_name": "Python 3"
    },
    "language_info": {
      "name": "python"
    }
  },
  "cells": [
    {
      "cell_type": "code",
      "execution_count": 1,
      "metadata": {
        "colab": {
          "base_uri": "https://localhost:8080/"
        },
        "id": "J6aPpGnQI5P1",
        "outputId": "960d3e32-b2b2-456b-b968-938b936639ec"
      },
      "outputs": [
        {
          "output_type": "stream",
          "name": "stdout",
          "text": [
            "enter a number:4\n",
            "enter a number:5\n",
            "enter a number:8\n",
            "8\n"
          ]
        }
      ],
      "source": [
        "#1.\n",
        "def maximum():\n",
        "  l=[]\n",
        "  for i in range(3):\n",
        "    n1=int(input('enter a number:'))\n",
        "    l.append(n1)\n",
        "  return((max(l)))\n",
        "maxi=maximum()\n",
        "print(maxi)"
      ]
    },
    {
      "cell_type": "code",
      "source": [
        "#2.\n",
        "from math import*\n",
        "def areacircle():\n",
        "  r=int(input('enter radius:'))\n",
        "  return(pi*r**2)\n",
        "area_c=areacircle()\n",
        "print(area_c)"
      ],
      "metadata": {
        "colab": {
          "base_uri": "https://localhost:8080/"
        },
        "id": "-vD075K2L22o",
        "outputId": "0dfd68b8-a032-44f3-9d1e-249ad0c62455"
      },
      "execution_count": 2,
      "outputs": [
        {
          "output_type": "stream",
          "name": "stdout",
          "text": [
            "enter radius:2\n",
            "12.566370614359172\n"
          ]
        }
      ]
    },
    {
      "cell_type": "code",
      "source": [
        "#3.\n",
        "def prime_number():\n",
        "  n=int(input('Enter the number:'))\n",
        "  if n==2:\n",
        "    return('prime numer')\n",
        "  else:\n",
        "    for i in range(2,n):\n",
        "      if n%i==0:\n",
        "        return('not prime number')\n",
        "      else:\n",
        "        return('prime number')\n",
        "\n",
        "pr=prime_number()\n",
        "print(pr)\n",
        "\n"
      ],
      "metadata": {
        "colab": {
          "base_uri": "https://localhost:8080/"
        },
        "id": "Va_pSSfN7v_K",
        "outputId": "40ef0626-c7a7-481c-8119-3765c3265414"
      },
      "execution_count": 3,
      "outputs": [
        {
          "output_type": "stream",
          "name": "stdout",
          "text": [
            "Enter the number:11\n",
            "prime number\n"
          ]
        }
      ]
    },
    {
      "cell_type": "code",
      "source": [
        "#4.\n",
        "def pal():\n",
        "  sample=input('Enter:')\n",
        "  if sample==sample[::-1]:\n",
        "    return('Palindrome')\n",
        "  else:\n",
        "    return('not a Palindrome')\n",
        "palind=pal()\n",
        "print(palind)"
      ],
      "metadata": {
        "colab": {
          "base_uri": "https://localhost:8080/"
        },
        "id": "SQJ0sEQLMp6-",
        "outputId": "1e29848d-a787-4b87-815d-b2a6aa74ec6b"
      },
      "execution_count": 4,
      "outputs": [
        {
          "output_type": "stream",
          "name": "stdout",
          "text": [
            "Enter:4004\n",
            "Palindrome\n"
          ]
        }
      ]
    },
    {
      "cell_type": "code",
      "source": [
        "palind=pal()\n",
        "print(palind)"
      ],
      "metadata": {
        "colab": {
          "base_uri": "https://localhost:8080/"
        },
        "id": "FZF3HwwvOMEm",
        "outputId": "8303dcae-18f4-4180-e054-060ed9272921"
      },
      "execution_count": 5,
      "outputs": [
        {
          "output_type": "stream",
          "name": "stdout",
          "text": [
            "Enter:malayalam\n",
            "Palindrome\n"
          ]
        }
      ]
    },
    {
      "cell_type": "code",
      "source": [
        "#5.\n",
        "def list_sum():\n",
        "  list_2=[]\n",
        "  n=int(input('Enter number of elements in the list:'))\n",
        "  for i in range(n):\n",
        "    x1=int(input('Enter number:'))\n",
        "    list_2.append(x1)\n",
        "  return(sum(list_2))\n",
        "\n",
        "su=list_sum()\n",
        "print(su)\n"
      ],
      "metadata": {
        "id": "gfoBqKhEOdjm",
        "colab": {
          "base_uri": "https://localhost:8080/"
        },
        "outputId": "60c291b2-1db2-484d-b301-13017db59de9"
      },
      "execution_count": 6,
      "outputs": [
        {
          "output_type": "stream",
          "name": "stdout",
          "text": [
            "Enter number of elements in the list:3\n",
            "Enter number:5\n",
            "Enter number:3\n",
            "Enter number:8\n",
            "16\n"
          ]
        }
      ]
    },
    {
      "cell_type": "code",
      "source": [
        "#6.\n",
        "def average():\n",
        "   list_3=[]\n",
        "   n1=int(input('Enter number of elements in the list:'))\n",
        "   for i in range(n1):\n",
        "    x2=int(input('Enter number:'))\n",
        "    list_3.append(x2)\n",
        "   return((sum(list_3))/n1)\n",
        "\n",
        "avg=average()\n",
        "print(avg)\n"
      ],
      "metadata": {
        "colab": {
          "base_uri": "https://localhost:8080/"
        },
        "id": "my1rd7et_z57",
        "outputId": "d5e6a128-1426-4211-c6c4-0c600986619e"
      },
      "execution_count": 7,
      "outputs": [
        {
          "output_type": "stream",
          "name": "stdout",
          "text": [
            "Enter number of elements in the list:3\n",
            "Enter number:2\n",
            "Enter number:3\n",
            "Enter number:4\n",
            "3.0\n"
          ]
        }
      ]
    },
    {
      "cell_type": "code",
      "source": [
        "#7.\n",
        "import heapq\n",
        "def kth_largest():\n",
        "  list_4=[]\n",
        "  k=int(input('Enter k:'))\n",
        "  m=int(input('Enter no of elements:'))\n",
        "  for i in range(m):\n",
        "    y=int(input('Enter number:'))\n",
        "    list_4.append(y)\n",
        "  if k>len(list_4):\n",
        "    return('none')\n",
        "  kth_largest_elements=heapq.nlargest(k,list_4)\n",
        "  return kth_largest_elements[-1]\n",
        "\n",
        "lar=kth_largest()\n",
        "print(lar)\n",
        "\n",
        "\n"
      ],
      "metadata": {
        "colab": {
          "base_uri": "https://localhost:8080/"
        },
        "id": "8iX6lc7d_4I3",
        "outputId": "3e349e5e-7a44-457d-f9ef-4825021a71cf"
      },
      "execution_count": 8,
      "outputs": [
        {
          "output_type": "stream",
          "name": "stdout",
          "text": [
            "Enter k:2\n",
            "Enter no of elements:3\n",
            "Enter number:1\n",
            "Enter number:3\n",
            "Enter number:4\n",
            "3\n"
          ]
        }
      ]
    },
    {
      "cell_type": "code",
      "source": [
        "#8.\n",
        "def sum_digits(a):\n",
        "  if a<10 and a>0:\n",
        "    return a\n",
        "  else:\n",
        "    return a%10+sum_digits(a//10)\n",
        "\n",
        "def inp():\n",
        "  a=int(input('Enter number:'))\n",
        "  sd=sum_digits(a)\n",
        "  print(sd)\n",
        "\n",
        "inp()\n"
      ],
      "metadata": {
        "colab": {
          "base_uri": "https://localhost:8080/"
        },
        "id": "mhXWdhXtEeu_",
        "outputId": "2f063570-d2f9-4774-b777-f206673f2d3b"
      },
      "execution_count": 9,
      "outputs": [
        {
          "output_type": "stream",
          "name": "stdout",
          "text": [
            "Enter number:45\n",
            "9\n"
          ]
        }
      ]
    },
    {
      "cell_type": "code",
      "source": [
        "#9.\n",
        "\n",
        "def power_nmbr(base, exponent):\n",
        "    if exponent == 0:\n",
        "        return 1\n",
        "    else:\n",
        "        return base * power_nmbr(base, exponent - 1)\n",
        "\n",
        "def main():\n",
        "    base = int(input('Enter the base number: '))\n",
        "    exponent = int(input('Enter the exponent: '))\n",
        "    result = power_nmbr(base, exponent)\n",
        "    print(f\"{base} raised to the power of {exponent} is {result}\")\n",
        "\n",
        "main()\n"
      ],
      "metadata": {
        "colab": {
          "base_uri": "https://localhost:8080/"
        },
        "id": "SIFO9KS5R1dU",
        "outputId": "517af844-fc07-4fce-cefc-15b603320951"
      },
      "execution_count": 11,
      "outputs": [
        {
          "output_type": "stream",
          "name": "stdout",
          "text": [
            "Enter the base number: 2\n",
            "Enter the exponent: 3\n",
            "2 raised to the power of 3 is 8\n"
          ]
        }
      ]
    },
    {
      "cell_type": "code",
      "source": [
        "#10.\n",
        "def gcd_recursive(a, b):\n",
        "    if b == 0:\n",
        "        return a\n",
        "    else:\n",
        "        return gcd_recursive(b, a % b)\n",
        "\n",
        "result = gcd_recursive(48, 18)\n",
        "print(result)\n"
      ],
      "metadata": {
        "colab": {
          "base_uri": "https://localhost:8080/"
        },
        "id": "W2gvoEoxSf0D",
        "outputId": "11cde17b-40cf-4de4-d81c-ddbacc96274a"
      },
      "execution_count": 12,
      "outputs": [
        {
          "output_type": "stream",
          "name": "stdout",
          "text": [
            "6\n"
          ]
        }
      ]
    },
    {
      "cell_type": "code",
      "source": [
        "#11.\n",
        "import numpy as np\n",
        "arr1=np.arange(10)\n",
        "print(arr1)"
      ],
      "metadata": {
        "colab": {
          "base_uri": "https://localhost:8080/"
        },
        "id": "CeGPwB7QW3wc",
        "outputId": "d5e6eec9-ebe3-46ee-a2fc-695dba70a4ac"
      },
      "execution_count": 13,
      "outputs": [
        {
          "output_type": "stream",
          "name": "stdout",
          "text": [
            "[0 1 2 3 4 5 6 7 8 9]\n"
          ]
        }
      ]
    },
    {
      "cell_type": "code",
      "source": [
        "#12.\n",
        "import numpy as np\n",
        "arr2=np.arange(1,10).reshape(3,3)\n",
        "print(arr2)"
      ],
      "metadata": {
        "colab": {
          "base_uri": "https://localhost:8080/"
        },
        "id": "W8UbBNCMXVLt",
        "outputId": "379ba74e-73fd-4fc0-db72-eaf1700669d0"
      },
      "execution_count": 16,
      "outputs": [
        {
          "output_type": "stream",
          "name": "stdout",
          "text": [
            "[[1 2 3]\n",
            " [4 5 6]\n",
            " [7 8 9]]\n"
          ]
        }
      ]
    },
    {
      "cell_type": "code",
      "source": [
        "#13.\n",
        "import numpy as np\n",
        "id_m=np.eye(3,3)\n",
        "print(id_m)"
      ],
      "metadata": {
        "colab": {
          "base_uri": "https://localhost:8080/"
        },
        "id": "VVBeglPbX1mY",
        "outputId": "1c47515c-1279-43e7-a9cf-c77c5147bf4e"
      },
      "execution_count": 18,
      "outputs": [
        {
          "output_type": "stream",
          "name": "stdout",
          "text": [
            "[[1. 0. 0.]\n",
            " [0. 1. 0.]\n",
            " [0. 0. 1.]]\n"
          ]
        }
      ]
    },
    {
      "cell_type": "code",
      "source": [
        "#14.\n",
        "import numpy as np\n",
        "random_array = np.random.randint(0, 10, size=5)\n",
        "print(random_array)\n",
        "mean_arr=np.mean(random_array)\n",
        "std_dev=np.std(random_array)\n",
        "print(mean_arr)\n",
        "print(std_dev)"
      ],
      "metadata": {
        "colab": {
          "base_uri": "https://localhost:8080/"
        },
        "id": "VgUZocUbaAbb",
        "outputId": "60f66c1b-7519-4519-f8e3-d35f7d7d8493"
      },
      "execution_count": 25,
      "outputs": [
        {
          "output_type": "stream",
          "name": "stdout",
          "text": [
            "[2 8 7 1 8]\n",
            "5.2\n",
            "3.059411708155671\n"
          ]
        }
      ]
    },
    {
      "cell_type": "code",
      "source": [
        "#15.\n",
        "arr5 = np.arange(10, 21)\n",
        "first_five_elements = arr5[:5]\n",
        "print(arr5)\n",
        "print(first_five_elements)"
      ],
      "metadata": {
        "colab": {
          "base_uri": "https://localhost:8080/"
        },
        "id": "34FhXtJHajpW",
        "outputId": "69151136-02f1-4310-e8e3-b1df5b00428c"
      },
      "execution_count": 28,
      "outputs": [
        {
          "output_type": "stream",
          "name": "stdout",
          "text": [
            "[10 11 12 13 14 15 16 17 18 19 20]\n",
            "[10 11 12 13 14]\n"
          ]
        }
      ]
    },
    {
      "cell_type": "code",
      "source": [
        "#16.\n",
        "arr6= np.arange(1, 17).reshape(4, 4)\n",
        "second_row = arr6[1, :]\n",
        "print(arr6)\n",
        "print(second_row)\n"
      ],
      "metadata": {
        "colab": {
          "base_uri": "https://localhost:8080/"
        },
        "id": "DNiwrmxbcuVc",
        "outputId": "c517025a-936b-4da6-fed5-966555f88859"
      },
      "execution_count": 30,
      "outputs": [
        {
          "output_type": "stream",
          "name": "stdout",
          "text": [
            "[[ 1  2  3  4]\n",
            " [ 5  6  7  8]\n",
            " [ 9 10 11 12]\n",
            " [13 14 15 16]]\n",
            "[5 6 7 8]\n"
          ]
        }
      ]
    },
    {
      "cell_type": "code",
      "source": [
        "#17.\n",
        "array1 = np.arange(1, 6)\n",
        "array2 = np.arange(6, 11)\n",
        "result_array = array1 + array2\n",
        "print(\"First Array:\")\n",
        "print(array1)\n",
        "print(\"Second Array:\")\n",
        "print(array2)\n",
        "print(\"Element-wise addition:\")\n",
        "print(result_array)\n"
      ],
      "metadata": {
        "colab": {
          "base_uri": "https://localhost:8080/"
        },
        "id": "reIeTT_FdHfq",
        "outputId": "f455cf04-a016-4e79-b966-033a4eec0f0d"
      },
      "execution_count": 31,
      "outputs": [
        {
          "output_type": "stream",
          "name": "stdout",
          "text": [
            "First Array:\n",
            "[1 2 3 4 5]\n",
            "Second Array:\n",
            "[ 6  7  8  9 10]\n",
            "Element-wise addition:\n",
            "[ 7  9 11 13 15]\n"
          ]
        }
      ]
    },
    {
      "cell_type": "code",
      "source": [
        "#18.\n",
        "np.random.seed(1)\n",
        "random_array_10 = np.random.rand(10)\n",
        "random_array_10[random_array_10 < 0.5] = 0\n",
        "print(\"Random Array:\")\n",
        "print(random_array_10)\n"
      ],
      "metadata": {
        "colab": {
          "base_uri": "https://localhost:8080/"
        },
        "id": "YGdscMWFdX0F",
        "outputId": "c3380b8e-1da6-46a4-ef3c-52c9d3c4b73b"
      },
      "execution_count": 33,
      "outputs": [
        {
          "output_type": "stream",
          "name": "stdout",
          "text": [
            "Random Array:\n",
            "[0.         0.72032449 0.         0.         0.         0.\n",
            " 0.         0.         0.         0.53881673]\n"
          ]
        }
      ]
    },
    {
      "cell_type": "code",
      "source": [],
      "metadata": {
        "id": "2P_6XreIdjqU"
      },
      "execution_count": null,
      "outputs": []
    }
  ]
}